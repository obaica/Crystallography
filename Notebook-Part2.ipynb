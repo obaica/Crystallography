{
 "cells": [
  {
   "cell_type": "markdown",
   "metadata": {},
   "source": [
    "# Imperial College London\n",
    "## (MATE40004) Structure 1: Crystallography\n",
    "### Professor Aron Walsh, Department of Materials [(contact)](http://www.imperial.ac.uk/people/a.walsh)"
   ]
  },
  {
   "cell_type": "markdown",
   "metadata": {},
   "source": [
    "Extra links, media, and activities related to the 1st year introductory course to crystal structure (written using a [Jupyter Notebook](http://jupyter.org) hosted on [Github](https://github.com))"
   ]
  },
  {
   "cell_type": "markdown",
   "metadata": {},
   "source": [
    "# General links"
   ]
  },
  {
   "cell_type": "markdown",
   "metadata": {},
   "source": [
    "### Visualisation Software\n",
    "\n",
    "| Name        | Link        | Comment  |\n",
    "| ----------- | ----------- | -------- |\n",
    "| CRYSTALWALK | http://crystalwalk.herokuapp.com | Useful learning tool with no installation required |\n",
    "| CRYSTALMAKER     | http://www.crystalmaker.com | Paid, but with Departmental license |\n",
    "| VESTA       | http://jp-minerals.org/vesta/en/ | Free, fast, cross-platform (better for crystals) |\n",
    "| AVOGADRO    | http://avogadro.cc | Free, fast, cross-platform (better for molecules) |\n",
    "| BLENDER     | http://development.root-1.de/Atomic_Blender.php | Steep learning curve, but beautiful ray-traced images |"
   ]
  },
  {
   "cell_type": "markdown",
   "metadata": {},
   "source": [
    "### Crystal Structure Databases\n",
    "\n",
    "| Name        | Link        | Comment  |\n",
    "| ----------- | ----------- | -------- |\n",
    "| ICSD       | http://icsd.cds.rsc.org | Measured structures of inorganic materials  |\n",
    "| CSD       | https://www.ccdc.cam.ac.uk| Measured structures of organic and organic/inorganic materials  |\n",
    "| Materials Project | https://materialsproject.org | Calculated structures (with spurious errors) |\n",
    "| Aflow | http://aflowlib.org/CrystalDatabase | Collection of common crystal structure types |"
   ]
  },
  {
   "cell_type": "markdown",
   "metadata": {},
   "source": [
    "### National Structure Facilities\n",
    "| Name        | Link        | Comment  |\n",
    "| ----------- | ----------- | -------- |\n",
    "| Spring8 | https://www.youtube.com/user/spring8channel | Kyoto, Japan |\n",
    "| SLAC | https://www.youtube.com/channel/UCKzqyRUej9BI5dhdjwF09vQ | California, USA | \n",
    "| Diamond | https://www.youtube.com/user/DiamondLightSource | Harwell, UK |\n",
    "| ESRF | https://www.youtube.com/channel/UC6wrGV-8evsewfCpVnYv2sw | Grenoble, France |"
   ]
  },
  {
   "cell_type": "markdown",
   "metadata": {},
   "source": [
    "### Advanced Crystallography Tools\n",
    "\n",
    "| Name        | Link        | Comment  |\n",
    "| ----------- | ----------- | -------- |\n",
    "| Bilbao Crystallographic Server | http://www.cryst.ehu.es | Symmetry, space groups, and beyond |\n",
    "| Spglib | https://atztogo.github.io/spglib/ | A C library for crystal symmetry | \n",
    "| SHELX | http://shelx.uni-ac.gwdg.de/SHELX/ | Research tool for solving X-ray structures |\n",
    "| Crystallography Symmetry Database | http://it.iucr.org/resources/symmetrydatabase/ | Extensive symmetry information |"
   ]
  },
  {
   "cell_type": "markdown",
   "metadata": {},
   "source": [
    "# E. and F. Crystals"
   ]
  },
  {
   "cell_type": "markdown",
   "metadata": {},
   "source": [
    "### General interest\n",
    "\n",
    "* [Royal Insitution Lecture on Perovskites](https://www.youtube.com/watch?v=v9bMEUr2II4)\n",
    "* [National structure databases](http://cds.rsc.org)\n",
    "* [International Union of Crystallography](https://www.iucr.org/education/resources)\n",
    "\n",
    "### Advanced questions\n",
    "\n",
    "#### Q1. What factors determine the structures of binary solids?  \n",
    "\n",
    "We discussed two ways of rationalising the crystal structures formed by AB compounds.\n",
    "\n",
    "*1. Close packing of the larger ion*\n",
    "\n",
    "The majority of structure types formed by binary solids can be linked to a close-packed sub-lattice of one atom type, with the second atom filling the tetrahedral or octahedral interstitial sites. For example, rocksalt is obtained by filling octahedral holes, while zincblende is obtained by filling tetrahedral holes in an fcc lattice.\n",
    "\n",
    "![](https://slideplayer.com/slide/10731444/37/images/18/Interstitial+Sites+in+FCC+Structure%3A.jpg)\n",
    "\n",
    "*2. Radius ratio for ionic materials*\n",
    "\n",
    "Here the number of nearest neighbour anions (negatively charged ion) around a cation (positively charged ion) is maximised subject to the steric constraints outlined in the lectures. For each structure type, a critical radius can be determined from a simple geometric analysis, which represents the limit where the radii of the anions touch (the critical radius ratio).\n",
    "\n",
    "![](http://www2.latech.edu/~upali/chem481/chem481c3_files/nonidealradrat.GIF)"
   ]
  },
  {
   "cell_type": "markdown",
   "metadata": {},
   "source": [
    "# G. Diffraction"
   ]
  },
  {
   "cell_type": "markdown",
   "metadata": {},
   "source": [
    "### Online activity\n",
    "\n",
    "* [Diffraction (Oxford interactive animations)](https://www.doitpoms.ac.uk/tlplib/xray-diffraction/index.php)\n",
    "* [Royal Insitution Lecture on Crystallography (62 min)](https://www.youtube.com/watch?time_continue=653&v=gBxZVF3s4cU)\n",
    "* [Stereographic projections (Oxford interactive animations)](https://www.doitpoms.ac.uk/tlplib/stereographic/index.php)\n",
    "\n",
    "### General interest \n",
    "\n",
    "* [Royal Insitution Documentary on the Braggs (45 min)](https://www.youtube.com/watch?v=a-jE7BM902Q)\n",
    "* [Celebrating crystallography animation (3 min)](https://www.youtube.com/watch?time_continue=157&v=uqQlwYv8VQI)\n",
    "* [Useful unit converter](http://sjbyrnes.com/convert.html)"
   ]
  },
  {
   "cell_type": "markdown",
   "metadata": {},
   "source": [
    "### Simple calculations"
   ]
  },
  {
   "cell_type": "code",
   "execution_count": 1,
   "metadata": {
    "collapsed": false
   },
   "outputs": [
    {
     "name": "stdout",
     "output_type": "stream",
     "text": [
      "Populating the interactive namespace from numpy and matplotlib\n",
      "energy 8000 eV -->  wavelength 1.5498024673276163 Angstrom\n"
     ]
    }
   ],
   "source": [
    "# Energy to wavelength conversion using Python\n",
    "%pylab inline\n",
    "import scipy.constants as sc\n",
    "\n",
    "h=sc.value(u'Planck constant in eV s')  # eV/s\n",
    "c=sc.value(u'speed of light in vacuum') # m/s\n",
    "\n",
    "eV = 8000 # eV\n",
    "wav = (h*c)/eV # m\n",
    "print (\"energy\", eV, \"eV --> \", \"wavelength\", wav*1E10, \"Angstrom\") "
   ]
  },
  {
   "cell_type": "code",
   "execution_count": 2,
   "metadata": {
    "collapsed": false
   },
   "outputs": [
    {
     "name": "stdout",
     "output_type": "stream",
     "text": [
      "Populating the interactive namespace from numpy and matplotlib\n",
      "Spacing is 2.886751345948129 Angstrom\n"
     ]
    }
   ],
   "source": [
    "# Calculate d_hkl spacing for orthorhombic lattice using Python\n",
    "%pylab inline\n",
    "\n",
    "h = 1\n",
    "k = 1\n",
    "l = 1\n",
    "\n",
    "a = 5\n",
    "b = 5\n",
    "c = 5\n",
    "\n",
    "x = (h*h)/(a*a) + (k*k)/(b*b) + (l*l)/(c*c)\n",
    "d = sqrt (1/x)\n",
    "\n",
    "print (\"Spacing is\", d, \"Angstrom\")"
   ]
  },
  {
   "cell_type": "code",
   "execution_count": 3,
   "metadata": {
    "collapsed": false
   },
   "outputs": [
    {
     "name": "stdout",
     "output_type": "stream",
     "text": [
      "Bragg angle is 15.47629959631549 degrees\n",
      "Diffraction angle is 30.95259919263098 degrees\n"
     ]
    }
   ],
   "source": [
    "# Solve Bragg's Law using Python\n",
    "\n",
    "# 2dsinθ = nλ\n",
    "# use d-spacing from above cell\n",
    "\n",
    "# function: radians -> degrees\n",
    "def Asin(a):\n",
    "    return math.degrees(math.asin(a))\n",
    "\n",
    "λ = 1.5406 # X-ray wavelength in A\n",
    "\n",
    "s = λ/(2*d)\n",
    "angle = Asin(s)\n",
    "\n",
    "print (\"Bragg angle is\", angle, \"degrees\")\n",
    "print (\"Diffraction angle is\", 2*angle, \"degrees\")"
   ]
  }
 ],
 "metadata": {
  "kernelspec": {
   "display_name": "Python 3",
   "language": "python",
   "name": "python3"
  },
  "language_info": {
   "codemirror_mode": {
    "name": "ipython",
    "version": 3
   },
   "file_extension": ".py",
   "mimetype": "text/x-python",
   "name": "python",
   "nbconvert_exporter": "python",
   "pygments_lexer": "ipython3",
   "version": "3.6.8"
  }
 },
 "nbformat": 4,
 "nbformat_minor": 2
}
