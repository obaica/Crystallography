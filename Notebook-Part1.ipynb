{
 "cells": [
  {
   "cell_type": "markdown",
   "metadata": {},
   "source": [
    "# Imperial College London\n",
    "## (MSE102) Structure I: Crystallography\n",
    "### Professor Aron Walsh, Department of Materials [(contact)](http://www.imperial.ac.uk/people/a.walsh)"
   ]
  },
  {
   "cell_type": "markdown",
   "metadata": {},
   "source": [
    "Extra links, media, and activities related to the 1st year introductory course to crystal structure (written using a [Jupyter Notebook](http://jupyter.org) hosted on [Github](https://github.com))"
   ]
  },
  {
   "cell_type": "markdown",
   "metadata": {},
   "source": [
    "# General links"
   ]
  },
  {
   "cell_type": "markdown",
   "metadata": {},
   "source": [
    "### Visualisation Software\n",
    "\n",
    "| Name        | Link        | Comment  |\n",
    "| ----------- | ----------- | -------- |\n",
    "| CRYSTALWALK | http://crystalwalk.herokuapp.com | Useful learning tool with no installation required |\n",
    "| VESTA       | http://jp-minerals.org/vesta/en/ | Free, fast, cross-platform (better for crystals) |\n",
    "| AVOGADRO    | http://avogadro.cc | Free, fast, cross-platform (better for molecules) |\n",
    "| CRYSTALMAKER     | http://www.crystalmaker.com | Paid, but with Departmental license |\n",
    "| BLENDER     | http://development.root-1.de/Atomic_Blender.php | Steep learning curve, but beautiful ray-traced images |"
   ]
  },
  {
   "cell_type": "markdown",
   "metadata": {},
   "source": [
    "### Crystal Structure Databases\n",
    "\n",
    "| Name        | Link        | Comment  |\n",
    "| ----------- | ----------- | -------- |\n",
    "| ICSD       | http://icsd.cds.rsc.org | Measured structures of inorganic materials  |\n",
    "| CSD       | https://www.ccdc.cam.ac.uk| Measured structures of organic and organic/inorganic materials  |\n",
    "| Materials Project | https://materialsproject.org | Calculated structures (with spurious errors) |\n",
    "| Aflow | http://aflowlib.org/CrystalDatabase | Collection of common crystal structure types |"
   ]
  },
  {
   "cell_type": "markdown",
   "metadata": {},
   "source": [
    "### National Structure Facilities\n",
    "| Name        | Link        | Comment  |\n",
    "| ----------- | ----------- | -------- |\n",
    "| Spring8 | https://www.youtube.com/user/spring8channel | Kyoto, Japan |\n",
    "| SLAC | https://www.youtube.com/channel/UCKzqyRUej9BI5dhdjwF09vQ | California, USA | \n",
    "| Diamond | https://www.youtube.com/user/DiamondLightSource | Harwell, UK |\n",
    "| ESRF | https://www.youtube.com/channel/UC6wrGV-8evsewfCpVnYv2sw | Grenoble, France |"
   ]
  },
  {
   "cell_type": "markdown",
   "metadata": {},
   "source": [
    "### Advanced Crystallography Tools\n",
    "\n",
    "| Name        | Link        | Comment  |\n",
    "| ----------- | ----------- | -------- |\n",
    "| Bilbao Crystallographic Server | http://www.cryst.ehu.es | Symmetry, space groups, and beyond |\n",
    "| Spglib | https://atztogo.github.io/spglib/ | A C library for crystal symmetry | \n",
    "| SHELX | http://shelx.uni-ac.gwdg.de/SHELX/ | Research tool for solving X-ray structures |\n",
    "| Crystallography Symmetry Database | http://it.iucr.org/resources/symmetrydatabase/ | Extensive symmetry information |"
   ]
  },
  {
   "cell_type": "markdown",
   "metadata": {},
   "source": [
    "# A. Lattices"
   ]
  },
  {
   "cell_type": "markdown",
   "metadata": {},
   "source": [
    "### Online activity\n",
    "\n",
    "* [Crystallography (Oxford interactive tutorial)](https://www.doitpoms.ac.uk/tlplib/crystallography3/index.php) that covers many concepts from this course\n",
    "\n",
    "### General interest\n",
    "\n",
    "* [BBC Radio 4 special on crystallography (with Prof. Mike Glazer)](http://www.bbc.co.uk/programmes/b01p0s9s)\n",
    "\n",
    "* [Polymorphs of chocolate](http://www.compoundchem.com/2014/04/19/the-polymorphs-of-chocolate/)\n",
    "\n",
    "* [New non-cubic solar energy materials](http://www.nature.com/nphoton/journal/v9/n6/full/nphoton.2015.85.html?foxtrotcallback=true)\n",
    "\n",
    "### Advanced questions \n",
    "\n",
    "#### Q1. Why are only certain combinations of crystal system and centering allowed?\n",
    "\n",
    "Bravais showed that the combination of 7 crystal systems with all types of centring results in the 14 unique Bravais lattices in 3D. Other combinations would result in a lattice description that is equivalent to one of the 14 by a redefinition of the unit cell axes.\n",
    "\n",
    "For example, P and I tetragonal cells are allowed. However, a base-centred tetragonal lattice (lattice points at the top and bottom faces) could be redefined as a P tetragonal cell with rotated lattice vectors.\n",
    "\n",
    "A second example in 2D is that the centered-square lattice is not a Bravais lattice. It can again be redefined as a P square lattice with rotated lattice vectors (try to see this yourself with pen and paper).\n",
    "\n",
    "The mathematical proof for the 14 Bravais lattices is not taught in science/engineering courses, and is beyond the scope of this course. \n",
    "\n",
    "#### Q2. Centred Bravais lattices have a primitive unit cell?\n",
    "\n",
    "Each of the 14 Bravais lattices can be represented using a primitive unit cell with lattice points at each of the corners (see for example the article [\"Really, your lattices are all primitive, Mr. Bravais!\"](https://pubs.acs.org/doi/abs/10.1021/ed070p959)).  However, centred unit cells are convenient to crystallographers.\n",
    "\n",
    "A. Unit cells that contain a single lattice point are termed primitive. A primitive (P) lattice is fully described by a primitive unit cell.\n",
    "\n",
    "B. Centered unit cells contain two or more lattice points, which are referred to as a conventional (or full) unit cells, shown in green below. This description of a centred (e.g. I or F) lattice is favoured by crystallographers as it shows the underlying symmetry of the crystal structure and mathematical operations are simplified. However, a primitive unit cell with a smaller volume and non-90 degree angles can always be constructed, shown in turquoise. \n",
    "\n",
    "![](http://pd.chem.ucl.ac.uk/pdnn/symm4/latt8.gif)\n",
    "\n",
    "For more advanced reading, the International Union of Crystallography has a set of definitions: http://reference.iucr.org/dictionary/Centred_lattices\n",
    "\n",
    "#### Q3. Are rhombohedral and hexagonal systems equivalent?\n",
    "\n",
    "I presented the 14 Bravais lattices in 3D, where hexagonal and rhombohedral are seperate members.\n",
    "\n",
    "A potential point of confusion is that lattices in the rhombohedral crystal family can also be described using hexagonal axes [e.g. see [here](http://www.globalsino.com/EM/image1/3546.gif)]. In crystallography, hexagonal and rhombohedral lattices are part of the same crystal family, but are two distinct crystal systems.\n",
    "\n",
    "The real differences come down to symmetry elements. As covered in the Symmetry lecture, rhombohedral crystals have a 3-fold rotational axis, while hexagonal crystals have a 6-fold rotational axis, so there is a clear distinction between the two crystal systems.\n",
    "\n",
    "### Random\n",
    "\n",
    "[The Bravais Lattices Song](http://ww3.haverford.edu/physics-astro/songs/bravais.htm)\n",
    "\n",
    "```\n",
    "If you have to fill a volume with a structure that’s repetitive,\n",
    "Just keep your wits about you, you don’t need to take a sedative!\n",
    "\n",
    "Don’t freeze with indecision, there’s no need for you to bust a seam!\n",
    "Although the options may seem endless, really there are just fourteen!\n",
    "There’s cubic, orthorhombic, monoclinic, and tetragonal,\n",
    "There’s trigonal, triclinic, and then finally hexagonal!\n",
    "There’s only seven families, but kindly set your mind at ease....\n",
    "```\n"
   ]
  },
  {
   "cell_type": "markdown",
   "metadata": {},
   "source": [
    "# B. Symmetry"
   ]
  },
  {
   "cell_type": "markdown",
   "metadata": {},
   "source": [
    "### Online activity\n",
    "\n",
    "* [Symotter](https://symotter.org/tutorial) is a wonderful resource for molecular symmetry\n",
    "\n",
    "### General interest \n",
    "\n",
    "* [Examples of all space groups](https://crystalsymmetry.wordpress.com/230-2/)\n",
    "\n",
    "* [Symmetry in physics (Royal Insitution video)](https://www.youtube.com/watch?v=eb19XaOE1Po)\n",
    "\n",
    "### Advanced concepts\n",
    "\n",
    "* [Matrix representations of symmetry operations](http://www.pci.tu-bs.de/aggericke/PC4e/Kap_IV/Matrix_Symm_Op.htm)"
   ]
  },
  {
   "cell_type": "markdown",
   "metadata": {},
   "source": [
    "# C. Geometry"
   ]
  },
  {
   "cell_type": "markdown",
   "metadata": {},
   "source": [
    "### Online activity\n",
    "\n",
    "* [Lattice planes and Miller indices (Oxford interactive animations)](https://www.doitpoms.ac.uk/tlplib/miller_indices/index.php)\n",
    "\n",
    "### General interest\n",
    "\n",
    "* [Database of crystal shapes](http://crystalium.materialsvirtuallab.org)\n",
    "\n",
    "### Visualise a Miller index\n",
    "\n",
    "First install the free visualisation software [VESTA](http://jp-minerals.org/vesta/en/).\n",
    "\n",
    "1. Open. Then `File` -> `New structure` and click `OK` to create a simple cubic lattice.\n",
    "\n",
    "2. `Edit` -> `Lattice Planes` will allow you to draw any Miller index.\n",
    "\n",
    "![](/Images/vesta1.png)\n",
    "\n",
    "### Questions\n",
    "\n",
    "#### Q1. How to define the Miller index for a plane passing through the origin?\n",
    "\n",
    "The simple rules we discussed for determining the Miller index of a plane become ill-defined if a plane passes through the origin. In practice, a plane passing through the origin is defined in terms of a parallel plane having non-zero intercepts (thus avoiding a 1/0 term).\n",
    "\n",
    "_Additional Miller tips:_\n",
    "\n",
    "1. If a Miller index (_h_, _k_ or _l_) is 0, the plane is parallel to that axis. \n",
    "\n",
    "2. The smaller a Miller index, the more \"almost\" parallel the plane is to that axis.\n",
    "\n",
    "3. The larger a Miller index, the more \"almost\" perpendicular a plane is to that axis.\n",
    "\n",
    "4. Only the ratio between _h_, _k_ and _l_ affects the orientation of the plane. \n",
    "\n",
    "5. A nice animation showing a range of planes: \n",
    "\n",
    "![](http://chemistry.bd.psu.edu/jircitano/Miller.gif)"
   ]
  },
  {
   "cell_type": "markdown",
   "metadata": {},
   "source": [
    "# D. Packing"
   ]
  },
  {
   "cell_type": "markdown",
   "metadata": {},
   "source": [
    "### Online activity\n",
    "\n",
    "* [Crystal packing (Oxford interactive animations)](https://www.doitpoms.ac.uk/tlplib/crystallography3/packing.php)\n",
    "* [Interactive structures](http://bit.ly/2xe3kjg)\n",
    "\n",
    "### General interest\n",
    "\n",
    "* [Number of sweets in a jar](https://www.youtube.com/watch?v=YtjD3mRrVT4)\n",
    "* [Breakthrough in high dimensional packing](https://www.youtube.com/watch?v=ciM6wigZK0w)\n",
    "\n",
    "### Advanced questions \n",
    "\n",
    "#### Q1. The hcp unit cell appears to have more than one lattice point, making it non-primitive?\n",
    "\n",
    "It is a primitive hexagonal lattice consiting of one lattice point and a 2-atom basis (motif). The first atom is at (0,0,0) and the second atom is at (1/3,2/3,1/2).\n",
    "\n",
    "To make a hcp model of Zn in VESTA:\n",
    "\n",
    "1. `File -> New structure`. Leave the space group set to 1 (default) and change the lattice parameters to 2.7, 2.7, 4.9 (90, 90, 120). This creates an empty hexagonal lattice.\n",
    "\n",
    "2. Under `Structure parameters`, add one atom at (0,0,0) and a second at (1/3,2/3,1/2). This is the primitive unit cell with a two-atom basis.\n",
    "\n",
    "3. If you expand the unit cell using `Boundary` (for example, set x,y,z max to 4) and view the structure down the _c_ axis, then the underlying hexagonal symmetry will become clearer."
   ]
  },
  {
   "cell_type": "code",
   "execution_count": null,
   "metadata": {},
   "outputs": [],
   "source": []
  }
 ],
 "metadata": {
  "kernelspec": {
   "display_name": "Python 3",
   "language": "python",
   "name": "python3"
  },
  "language_info": {
   "codemirror_mode": {
    "name": "ipython",
    "version": 3
   },
   "file_extension": ".py",
   "mimetype": "text/x-python",
   "name": "python",
   "nbconvert_exporter": "python",
   "pygments_lexer": "ipython3",
   "version": "3.6.8"
  }
 },
 "nbformat": 4,
 "nbformat_minor": 2
}
